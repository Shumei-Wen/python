{
  "cells": [
    {
      "cell_type": "markdown",
      "metadata": {
        "id": "view-in-github",
        "colab_type": "text"
      },
      "source": [
        "<a href=\"https://colab.research.google.com/github/Shumei-Wen/python/blob/main/1_Python_%E7%9A%84%E8%B3%87%E6%96%99%E5%9E%8B%E5%88%A5%E8%88%87%E7%B5%90%E6%A7%8B.ipynb\" target=\"_parent\"><img src=\"https://colab.research.google.com/assets/colab-badge.svg\" alt=\"Open In Colab\"/></a>"
      ]
    },
    {
      "cell_type": "markdown",
      "metadata": {
        "id": "pxFLNqa5ncqb"
      },
      "source": [
        "# Python 的資料型別與結構\n"
      ]
    },
    {
      "cell_type": "markdown",
      "source": [
        "## 基本資料型別\n",
        "* int(數值)：整數數值，例如409。\n",
        "* float(浮點數)：帶有小數點的數字，例如：3.14。\n",
        "* str(字串)：用單引號或雙引號括起來的文字，例如：\"LM409\"、'3.14'。\n",
        "* bool(布林值)：True 和 False\n",
        "\n",
        "### 常用語法\n",
        "* 型別類型：type()\n",
        "* 跟型別運算：3*5、\"3\"*5、\"3\"/5、\"3\"+5、\"3\"-5，分別的結果是?\n",
        "* 型別轉換：int()、float()、str()\n"
      ],
      "metadata": {
        "id": "B8sQmgXGsyPZ"
      }
    },
    {
      "cell_type": "code",
      "execution_count": 1,
      "metadata": {
        "id": "kqKMMqr_ncqh",
        "colab": {
          "base_uri": "https://localhost:8080/"
        },
        "outputId": "4c90fce1-dad0-443f-e128-6c9007434ffb"
      },
      "outputs": [
        {
          "output_type": "execute_result",
          "data": {
            "text/plain": [
              "40"
            ]
          },
          "metadata": {},
          "execution_count": 1
        }
      ],
      "source": [
        "int(\"3\"+str(5))+5"
      ]
    },
    {
      "cell_type": "code",
      "execution_count": 2,
      "metadata": {
        "id": "-OZYCX0Dncqj",
        "colab": {
          "base_uri": "https://localhost:8080/",
          "height": 141
        },
        "outputId": "7cc0bc8d-be56-4c29-bbae-0b12c4a96f6d"
      },
      "outputs": [
        {
          "output_type": "error",
          "ename": "TypeError",
          "evalue": "unsupported operand type(s) for -: 'str' and 'int'",
          "traceback": [
            "\u001b[0;31m---------------------------------------------------------------------------\u001b[0m",
            "\u001b[0;31mTypeError\u001b[0m                                 Traceback (most recent call last)",
            "\u001b[0;32m<ipython-input-2-656dca777801>\u001b[0m in \u001b[0;36m<cell line: 0>\u001b[0;34m()\u001b[0m\n\u001b[0;32m----> 1\u001b[0;31m \u001b[0;34m\"3\"\u001b[0m\u001b[0;34m-\u001b[0m\u001b[0;36m5\u001b[0m\u001b[0;34m\u001b[0m\u001b[0;34m\u001b[0m\u001b[0m\n\u001b[0m",
            "\u001b[0;31mTypeError\u001b[0m: unsupported operand type(s) for -: 'str' and 'int'"
          ]
        }
      ],
      "source": [
        "\"3\"-5"
      ]
    },
    {
      "cell_type": "code",
      "execution_count": 3,
      "metadata": {
        "id": "roD-7A3wncqj",
        "colab": {
          "base_uri": "https://localhost:8080/",
          "height": 35
        },
        "outputId": "a429fb64-3709-4114-d1b7-a6e3ea94182c"
      },
      "outputs": [
        {
          "output_type": "execute_result",
          "data": {
            "text/plain": [
              "'555'"
            ],
            "application/vnd.google.colaboratory.intrinsic+json": {
              "type": "string"
            }
          },
          "metadata": {},
          "execution_count": 3
        }
      ],
      "source": [
        "3*\"5\""
      ]
    },
    {
      "cell_type": "code",
      "execution_count": 4,
      "metadata": {
        "id": "Vl_AWCsGncqk",
        "colab": {
          "base_uri": "https://localhost:8080/",
          "height": 141
        },
        "outputId": "d9d90891-49aa-43f5-97a5-0914d81bf937"
      },
      "outputs": [
        {
          "output_type": "error",
          "ename": "TypeError",
          "evalue": "unsupported operand type(s) for /: 'str' and 'int'",
          "traceback": [
            "\u001b[0;31m---------------------------------------------------------------------------\u001b[0m",
            "\u001b[0;31mTypeError\u001b[0m                                 Traceback (most recent call last)",
            "\u001b[0;32m<ipython-input-4-c229b8927f64>\u001b[0m in \u001b[0;36m<cell line: 0>\u001b[0;34m()\u001b[0m\n\u001b[0;32m----> 1\u001b[0;31m \u001b[0;34m\"3\"\u001b[0m\u001b[0;34m/\u001b[0m\u001b[0;36m5\u001b[0m\u001b[0;34m\u001b[0m\u001b[0;34m\u001b[0m\u001b[0m\n\u001b[0m",
            "\u001b[0;31mTypeError\u001b[0m: unsupported operand type(s) for /: 'str' and 'int'"
          ]
        }
      ],
      "source": [
        "\"3\"/5"
      ]
    },
    {
      "cell_type": "markdown",
      "source": [
        "## 資料結構\n"
      ],
      "metadata": {
        "id": "vixWCvRXtNBJ"
      }
    },
    {
      "cell_type": "markdown",
      "source": [
        "#### 1.tuple(數組)\n",
        "- tuple使用( )表示，不同的值用逗號分隔。\n",
        "- 常用語法：\n",
        "```\n",
        "變數名稱=(值1, 值2, ...)       ##建立一個新的tuple\n",
        "變數名稱=()                    ##建立一個空白的tuple\n",
        "tuple變數名稱 += (值1, 值2, ...)   ##新增tuple的元素(只能往後增加，不能修改其他元素及位置)\n",
        "```\n"
      ],
      "metadata": {
        "id": "iRO3OtT9uv8f"
      }
    },
    {
      "cell_type": "code",
      "source": [
        "list1_1=[1,2,3]\n",
        "print(type(list1_1))\n",
        "list1_2=list()\n",
        "print(type(list1_2))"
      ],
      "metadata": {
        "colab": {
          "base_uri": "https://localhost:8080/"
        },
        "id": "wLdI0zErVSi0",
        "outputId": "3e00c835-8b6a-4f16-bf85-8ce773bf6e55"
      },
      "execution_count": 5,
      "outputs": [
        {
          "output_type": "stream",
          "name": "stdout",
          "text": [
            "<class 'list'>\n",
            "<class 'list'>\n"
          ]
        }
      ]
    },
    {
      "cell_type": "code",
      "execution_count": 6,
      "metadata": {
        "id": "HmvV-JeAncqk",
        "colab": {
          "base_uri": "https://localhost:8080/"
        },
        "outputId": "8fbe0a4b-6bdd-42a8-aa46-33d2e02f14ac"
      },
      "outputs": [
        {
          "output_type": "stream",
          "name": "stdout",
          "text": [
            "tuple1= (1, 2, 3, 'a')\n",
            "tuple2= ()\n",
            "((1, 2, 3, 'a'), ())\n",
            "tuple1=\n",
            " (1, 2, 3, 'a', 7, 8) \n",
            " ()\n"
          ]
        }
      ],
      "source": [
        "tuple1=(1,2,3,\"a\")\n",
        "print(\"tuple1=\",tuple1)\n",
        "\n",
        "tuple2=()\n",
        "print(\"tuple2=\",tuple2)\n",
        "\n",
        "tuple3=(tuple1,tuple2)\n",
        "print(tuple3)\n",
        "\n",
        "tuple1+=(7,8)\n",
        "print(\"tuple1=\\n\",tuple1,\"\\n\",tuple2)"
      ]
    },
    {
      "cell_type": "code",
      "source": [
        "tuple4=tuple1+(\"10\",11)\n",
        "print(tuple4)"
      ],
      "metadata": {
        "id": "vceNDqMf3A_M",
        "colab": {
          "base_uri": "https://localhost:8080/"
        },
        "outputId": "55d284ad-5448-4a91-e8d8-2da6c91bb67e"
      },
      "execution_count": 7,
      "outputs": [
        {
          "output_type": "stream",
          "name": "stdout",
          "text": [
            "(1, 2, 3, 'a', 7, 8, '10', 11)\n"
          ]
        }
      ]
    },
    {
      "cell_type": "markdown",
      "source": [
        "#### 2.set(集合)\n",
        "- set用{ }表示，不同的值用逗號分隔。\n",
        "- set的內容元素都必須是獨一無二的。\n",
        "- set的空集合設定方式不是用{}表示，因為這個符號用法會被套用在dict字典結構。\n",
        "- 常用語法：\n",
        "```\n",
        "變數名稱={值1, 值2, ...}       ##建立一個新的set\n",
        "變數名稱=set()                 ##建立一個空set\n",
        "set變數名稱.add(值)            ##新增一個值到set內\n",
        "set變數名稱.remove(值)         ##將一個值從set內刪除\n",
        "len(set變數名稱)、sum(set變數名稱)、max(set變數名稱)、min(set變數名稱)     ##計算set的長度、總和、最大值及最小值\n",
        "setA.union(setB)              ##setA與setB的聯集 A∪B    (也可以setA | setB)\n",
        "setA.intersection(setB)       ##setA與setB的交集 A∩B    (也可以setA & setB)\n",
        "setA.difference(setB)         ##setA去除與setB共有的部份 A-B    (也可以setA - setB)\n",
        "setA.symmetric_difference(setB)       ##去除setA與setB的交集 (A∩B)'     (也可以setA ^ setB)\n",
        "```\n"
      ],
      "metadata": {
        "id": "_s3u8fgkurdf"
      }
    },
    {
      "cell_type": "code",
      "execution_count": 8,
      "metadata": {
        "id": "Qlsk2smqncql",
        "colab": {
          "base_uri": "https://localhost:8080/"
        },
        "outputId": "2ae641f3-5737-4079-8554-cf7a7fb19ad4"
      },
      "outputs": [
        {
          "output_type": "stream",
          "name": "stdout",
          "text": [
            "set1= {1, 2, 'a', 5}\n",
            "set2= {1, 2, 3}\n",
            "set3= set()\n",
            "4\n",
            "8\n"
          ]
        }
      ],
      "source": [
        "set1={1,2,5,\"a\"}\n",
        "print(\"set1=\",set1)\n",
        "set2={1,2,2,3}\n",
        "print(\"set2=\",set2)\n",
        "set3=set()\n",
        "print(\"set3=\",set3)\n",
        "set2.add(4)\n",
        "set1.remove(\"a\")\n",
        "print(len(set2))\n",
        "print(sum(set1))"
      ]
    },
    {
      "cell_type": "code",
      "execution_count": 9,
      "metadata": {
        "id": "57hQYJvJncqm",
        "colab": {
          "base_uri": "https://localhost:8080/"
        },
        "outputId": "a83bc4a6-ecff-46fe-9d04-57725d40034f"
      },
      "outputs": [
        {
          "output_type": "stream",
          "name": "stdout",
          "text": [
            "<class 'set'>\n"
          ]
        }
      ],
      "source": [
        "set4=set()\n",
        "print(type(set4))"
      ]
    },
    {
      "cell_type": "code",
      "execution_count": 10,
      "metadata": {
        "id": "URv5_3MAncqm",
        "colab": {
          "base_uri": "https://localhost:8080/"
        },
        "outputId": "64de5da2-44e7-46bb-b9e5-118f3a687277"
      },
      "outputs": [
        {
          "output_type": "stream",
          "name": "stdout",
          "text": [
            "{1, 2, 5}\n",
            "{1, 2, 3, 4}\n",
            "{1, 2}\n"
          ]
        }
      ],
      "source": [
        "print(set1)\n",
        "print(set2)\n",
        "print(set1.intersection(set2))"
      ]
    },
    {
      "cell_type": "markdown",
      "source": [
        "#### 3.list(串列)\n",
        "- List用中括號[ ]表示，不同的值用逗號分隔。\n",
        "- 常用語法：\n",
        "```\n",
        "變數名稱=[值1, 值2, ...]       ##建立一個新的list，list內的\n",
        "變數名稱=[]                    ##建立一個空list\n",
        "list變數名稱[index]            ##以索引自list取值，python的容器索引從0開始，取最後一個值的索引值可以用-1。\n",
        "list變數名稱[start:end:range]  ##自list取出一群index有規律的值。start預設為0，end預設為總個數+1(不含end)，range預設為1\n",
        "list變數名稱.append(值)        ##新增list一個元素   \n",
        "list變數名稱 += [值1, 值2, ...]##新增多個元素\n",
        "list變數名稱.remove(值)        ##刪除list某個特定元素\n",
        "del list[index]               ##刪除多個元素。\n",
        "```\n"
      ],
      "metadata": {
        "id": "KBv1jmFZvK0y"
      }
    },
    {
      "cell_type": "code",
      "source": [
        "list1=[1,2]\n",
        "list2=[3,4]\n",
        "list1=list1+list2\n",
        "print(list1)"
      ],
      "metadata": {
        "id": "1ncX1NWD_f2X",
        "colab": {
          "base_uri": "https://localhost:8080/"
        },
        "outputId": "0e70c63c-62eb-4eba-ef55-0b99617b7768"
      },
      "execution_count": 11,
      "outputs": [
        {
          "output_type": "stream",
          "name": "stdout",
          "text": [
            "[1, 2, 3, 4]\n"
          ]
        }
      ]
    },
    {
      "cell_type": "code",
      "execution_count": 12,
      "metadata": {
        "id": "JUe0tCWKncqn",
        "colab": {
          "base_uri": "https://localhost:8080/"
        },
        "outputId": "2b447ace-d9df-45ce-c5cd-ed928aba58ce"
      },
      "outputs": [
        {
          "output_type": "stream",
          "name": "stdout",
          "text": [
            "list1= [1, 2, 3, 4]\n",
            "list2= []\n",
            "list3= ['B', 5, 8, ['A', 1, 5]]\n",
            "list4= [[1, 2, 3, 4], (1, 2, 3, 'a', 7, 8)]\n"
          ]
        }
      ],
      "source": [
        "list1=[1,2,3,4]\n",
        "print(\"list1=\",list1)\n",
        "list2=[]\n",
        "print(\"list2=\",list2)\n",
        "list3=[\"B\",5,8,[\"A\",1,5]]\n",
        "print(\"list3=\",list3)\n",
        "list4=[list1,tuple1]\n",
        "print(\"list4=\",list4)\n"
      ]
    },
    {
      "cell_type": "code",
      "source": [
        "print(list1[3])\n",
        "print(list3[-1])\n",
        "print(list3[-1][0])\n",
        "list5=[1,2,3,4,5,6,7,8,9,10]\n",
        "print(list5[0:5:2])\n",
        "list1.append([\"B\",1,8])\n",
        "print(\"list1_新增元素=\",list1)\n",
        "list1+=[\"a\",\"5\",1]\n",
        "print(\"list1_新增元素=\",list1)"
      ],
      "metadata": {
        "colab": {
          "base_uri": "https://localhost:8080/"
        },
        "id": "XdvE6OBfWrwF",
        "outputId": "7e50aa0b-feb1-4112-9a0a-23350b028202"
      },
      "execution_count": 13,
      "outputs": [
        {
          "output_type": "stream",
          "name": "stdout",
          "text": [
            "4\n",
            "['A', 1, 5]\n",
            "A\n",
            "[1, 3, 5]\n",
            "list1_新增元素= [1, 2, 3, 4, ['B', 1, 8]]\n",
            "list1_新增元素= [1, 2, 3, 4, ['B', 1, 8], 'a', '5', 1]\n"
          ]
        }
      ]
    },
    {
      "cell_type": "code",
      "source": [
        "list3[-2]"
      ],
      "metadata": {
        "id": "gOW5ZFNBGMTZ",
        "colab": {
          "base_uri": "https://localhost:8080/"
        },
        "outputId": "6ba512f0-7f6e-427a-adc2-fd6cee209721"
      },
      "execution_count": 14,
      "outputs": [
        {
          "output_type": "execute_result",
          "data": {
            "text/plain": [
              "8"
            ]
          },
          "metadata": {},
          "execution_count": 14
        }
      ]
    },
    {
      "cell_type": "code",
      "source": [
        "list3=[\"B\",5,8,[\"A\",1,5]]\n",
        "print(list3[3][0])"
      ],
      "metadata": {
        "id": "1H4Fuvyz__c1",
        "colab": {
          "base_uri": "https://localhost:8080/"
        },
        "outputId": "9d544982-7620-46f5-a464-668c3055e197"
      },
      "execution_count": 15,
      "outputs": [
        {
          "output_type": "stream",
          "name": "stdout",
          "text": [
            "A\n"
          ]
        }
      ]
    },
    {
      "cell_type": "code",
      "execution_count": 16,
      "metadata": {
        "id": "jc3yNh4gncqo",
        "colab": {
          "base_uri": "https://localhost:8080/"
        },
        "outputId": "ab6a8bab-2d52-42d3-ea0a-5538de59c2d9"
      },
      "outputs": [
        {
          "output_type": "stream",
          "name": "stdout",
          "text": [
            "[1, 2, 3, 4, ['B', 1, 8], 'a', '5', 1]\n",
            "list6_刪除元素(remove)= [2, 3, 4, ['B', 1, 8], 'a', '5', 1]\n",
            "list1= [1, 2, 3, 4, ['B', 1, 8], 'a', '5', 1]\n"
          ]
        }
      ],
      "source": [
        "list6=list1.copy()\n",
        "print(list6)\n",
        "list6.remove(1)\n",
        "print(\"list6_刪除元素(remove)=\",list6)\n",
        "print(\"list1=\",list1)"
      ]
    },
    {
      "cell_type": "code",
      "source": [
        "list7=list1\n",
        "del list7[1:5]\n",
        "print(\"list7_刪除元素(del)=\",list7)\n",
        "print(\"list1=\",list1)"
      ],
      "metadata": {
        "id": "gizpVge1zL1K",
        "colab": {
          "base_uri": "https://localhost:8080/"
        },
        "outputId": "a1174fcb-77ba-463c-b65f-17928bc1e120"
      },
      "execution_count": 17,
      "outputs": [
        {
          "output_type": "stream",
          "name": "stdout",
          "text": [
            "list7_刪除元素(del)= [1, 'a', '5', 1]\n",
            "list1= [1, 'a', '5', 1]\n"
          ]
        }
      ]
    },
    {
      "cell_type": "markdown",
      "source": [
        "#### 4.dict(字典)\n",
        "- key-value的型式。\n",
        "- 常用語法\n",
        "```\n",
        "變數名稱={key1:value1, key2:value2, ...}   ##建立新的dict\n",
        "dict變數名稱[key]                          ##取出key對應的value(key前後要加引號)\n",
        "dict變數名稱[NEW key]=新值                 ##新增一組key-value\n",
        "dict變數名稱.update({key1:value1, key2:value2, ...})   ##新增多組key-value\n",
        "del dict變數名稱[key]  或  dict變數名稱.pop(key)             ##一次刪除一組key-value\n",
        "```\n"
      ],
      "metadata": {
        "id": "Wn7daofqvN8G"
      }
    },
    {
      "cell_type": "code",
      "execution_count": 18,
      "metadata": {
        "id": "a17urUh5ncqo",
        "colab": {
          "base_uri": "https://localhost:8080/"
        },
        "outputId": "35e2a7b2-0d10-4564-8782-919150c246de"
      },
      "outputs": [
        {
          "output_type": "stream",
          "name": "stdout",
          "text": [
            "dict1= {'瑞士': '伯恩', '日本': '東京', '美國': '華盛頓特區'}\n",
            "東京\n",
            "dict1(新增)= {'瑞士': '伯恩', '日本': '東京', '美國': '華盛頓特區', '越南': '河內', '英國': '倫敦', '法國': '巴黎'}\n",
            "dict1(刪除)= {'瑞士': '伯恩', '美國': '華盛頓特區', '英國': '倫敦', '法國': '巴黎'}\n"
          ]
        }
      ],
      "source": [
        "dict1={\"瑞士\":\"伯恩\",\"日本\":\"東京\",\"美國\":\"華盛頓特區\"}\n",
        "print(\"dict1=\",dict1)\n",
        "print(dict1[\"日本\"])\n",
        "dict1[\"越南\"]=\"河內\"\n",
        "dict1.update({\"英國\":\"倫敦\",\"法國\":\"巴黎\"})\n",
        "print(\"dict1(新增)=\",dict1)\n",
        "del dict1[\"日本\"]\n",
        "dict1.pop(\"越南\")\n",
        "print(\"dict1(刪除)=\",dict1)"
      ]
    },
    {
      "cell_type": "markdown",
      "metadata": {
        "id": "jz5ef8ufncqo"
      },
      "source": [
        "# 條件判斷式\n",
        "## 比較運算符\n",
        "* ==       等於\n",
        "* !=       不等於\n",
        "* ```>```        大於\n",
        "* <        小於\n",
        "* ```>=```       大於等於\n",
        "* <=       小於等於\n",
        "## if 敘述句\n",
        "```\n",
        "if 條件判斷式:\n",
        "    程式區塊\n",
        "```\n",
        "## if...else...敘述句\n",
        "```\n",
        "if 條件判斷式:\n",
        "    程式區塊\n",
        "else:\n",
        "    程式區塊\n",
        "```\n",
        "## if...elif...else...敘述句\n",
        "```\n",
        "if 條件判斷式1:\n",
        "    程式區塊\n",
        "elif 條件判斷式2:\n",
        "    程式區塊\n",
        "elif 條件判斷式3:\n",
        "    程式區塊\n",
        "else:\n",
        "    程式區塊\n",
        "```"
      ]
    },
    {
      "cell_type": "code",
      "execution_count": 19,
      "metadata": {
        "id": "DgNCW4D5ncqp",
        "colab": {
          "base_uri": "https://localhost:8080/"
        },
        "outputId": "f64cbd7a-52e2-47c2-ec0b-c5330bf9f0f9"
      },
      "outputs": [
        {
          "output_type": "stream",
          "name": "stdout",
          "text": [
            "請輸入0~100的數字:78\n",
            "及格\n"
          ]
        }
      ],
      "source": [
        "num1=int(input(\"請輸入0~100的數字:\"))\n",
        "if num1>=60:\n",
        "    print(\"及格\")"
      ]
    },
    {
      "cell_type": "code",
      "execution_count": 21,
      "metadata": {
        "id": "00KAB3RZncqp",
        "colab": {
          "base_uri": "https://localhost:8080/"
        },
        "outputId": "0c3209fa-dbda-4525-dfe9-07874682ca00"
      },
      "outputs": [
        {
          "output_type": "stream",
          "name": "stdout",
          "text": [
            "請輸入0~100的數字:\n",
            "46\n",
            "不及格\n"
          ]
        }
      ],
      "source": [
        "print(\"請輸入0~100的數字:\")\n",
        "num1=int(input())\n",
        "if num1>=60:\n",
        "    print(\"及格\")\n",
        "else:\n",
        "    print(\"不及格\")"
      ]
    },
    {
      "cell_type": "code",
      "execution_count": 22,
      "metadata": {
        "id": "sULCD5Ftncqq",
        "colab": {
          "base_uri": "https://localhost:8080/"
        },
        "outputId": "2f24cfde-2efe-4c8e-d5f2-72b51870bcee"
      },
      "outputs": [
        {
          "output_type": "stream",
          "name": "stdout",
          "text": [
            "請輸入0~100的數字:\n",
            "21\n",
            "太差了，請加油\n"
          ]
        }
      ],
      "source": [
        "print(\"請輸入0~100的數字:\")\n",
        "num1=int(input())\n",
        "if num1>=90:\n",
        "    print(\"很棒\")\n",
        "elif num1>=60:\n",
        "    print(\"及格\")\n",
        "elif num1<50:\n",
        "    print(\"太差了，請加油\")\n",
        "else:\n",
        "    print(\"不及格\")"
      ]
    },
    {
      "cell_type": "markdown",
      "metadata": {
        "id": "sIjug8lNncqq"
      },
      "source": [
        "# 迴圈\n"
      ]
    },
    {
      "cell_type": "markdown",
      "source": [
        "## for 迴圈\n",
        "\n",
        "\n"
      ],
      "metadata": {
        "id": "2S6C2bnUxObP"
      }
    },
    {
      "cell_type": "markdown",
      "source": [
        "   #### 1.基本for迴圈\n",
        "   ```\n",
        "   for 變數 in 容器:\n",
        "      程式區塊\n",
        "   ```\n",
        "  "
      ],
      "metadata": {
        "id": "2GH72zBCxXcY"
      }
    },
    {
      "cell_type": "code",
      "execution_count": 23,
      "metadata": {
        "id": "V1gE9dA5ncqq",
        "colab": {
          "base_uri": "https://localhost:8080/"
        },
        "outputId": "2b47bda9-a7c2-451f-baa2-ff3000b3bae9"
      },
      "outputs": [
        {
          "output_type": "stream",
          "name": "stdout",
          "text": [
            "dog\n",
            "cat\n",
            "monkey\n",
            "bird\n",
            "elephant\n"
          ]
        }
      ],
      "source": [
        "animal_list=[\"dog\",\"cat\",\"monkey\",\"bird\",\"elephant\"]\n",
        "for animal in animal_list:\n",
        "    print(animal)"
      ]
    },
    {
      "cell_type": "markdown",
      "source": [
        "   #### 2.搭配二維list\n",
        "   ```\n",
        "   for 變數 in 二維list:\n",
        "      程式區塊\n",
        "   ```      \n"
      ],
      "metadata": {
        "id": "QUncuUtaxe_y"
      }
    },
    {
      "cell_type": "code",
      "execution_count": 24,
      "metadata": {
        "id": "E3wBIJ2hncqr",
        "colab": {
          "base_uri": "https://localhost:8080/"
        },
        "outputId": "4fa162da-fb7e-4eea-f252-dd0630e3c9e2"
      },
      "outputs": [
        {
          "output_type": "stream",
          "name": "stdout",
          "text": [
            "apple\n",
            "red\n",
            "banana\n",
            "yellow\n",
            "lemon\n",
            "green\n"
          ]
        }
      ],
      "source": [
        "fruits=[[\"apple\",\"red\"],[\"banana\",\"yellow\"],[\"lemon\",\"green\"]]\n",
        "for fruit in fruits:      ## 第一層for迴圈\n",
        "    for item in fruit:    ## 第二層for迴圈\n",
        "        print(item)"
      ]
    },
    {
      "cell_type": "markdown",
      "source": [
        "   #### 3.搭配range\n",
        "   ```\n",
        "   for 索引 in range(N):   ##N代表list的長度\n",
        "      程式區塊\n",
        "      \n",
        "   ```"
      ],
      "metadata": {
        "id": "3uAT5abTxpzI"
      }
    },
    {
      "cell_type": "code",
      "execution_count": 25,
      "metadata": {
        "id": "Jg92EDq0ncqr",
        "colab": {
          "base_uri": "https://localhost:8080/"
        },
        "outputId": "bfa1c464-d28e-48f4-a023-1d33d44e4805"
      },
      "outputs": [
        {
          "output_type": "stream",
          "name": "stdout",
          "text": [
            "item 2 = monkey\n",
            "item 3 = bird\n",
            "item 4 = elephant\n"
          ]
        }
      ],
      "source": [
        "for i in range(2,len(animal_list)):\n",
        "    print (\"item\", i, \"=\", animal_list[i])\n",
        "    #print(i)"
      ]
    },
    {
      "cell_type": "markdown",
      "source": [
        "## while 迴圈"
      ],
      "metadata": {
        "id": "IDty4OzsxRJD"
      }
    },
    {
      "cell_type": "markdown",
      "source": [
        "   #### 1.基本while迴圈\n",
        "   ```\n",
        "   while 條件判斷式:\n",
        "      程式區塊\n",
        "   ```\n"
      ],
      "metadata": {
        "id": "7ZNqyMbixwpG"
      }
    },
    {
      "cell_type": "code",
      "source": [
        "len(animal_list)"
      ],
      "metadata": {
        "id": "0Lfks4LDMqGm",
        "colab": {
          "base_uri": "https://localhost:8080/"
        },
        "outputId": "297b9973-ecbb-466f-8d0d-de25c39ae11b"
      },
      "execution_count": 26,
      "outputs": [
        {
          "output_type": "execute_result",
          "data": {
            "text/plain": [
              "5"
            ]
          },
          "metadata": {},
          "execution_count": 26
        }
      ]
    },
    {
      "cell_type": "code",
      "execution_count": 27,
      "metadata": {
        "id": "42WiEAHAncqr",
        "colab": {
          "base_uri": "https://localhost:8080/"
        },
        "outputId": "e1a1f576-f580-454c-b83e-01b15d6bc0b1"
      },
      "outputs": [
        {
          "output_type": "stream",
          "name": "stdout",
          "text": [
            "0\n",
            "1\n",
            "2\n",
            "3\n",
            "4\n"
          ]
        }
      ],
      "source": [
        "n = 0\n",
        "while n < 5:\n",
        "    print(n)\n",
        "    n+=1"
      ]
    },
    {
      "cell_type": "markdown",
      "source": [
        "   #### 2.使用break\n",
        "   - 脫離while迴圈\n",
        "   ```\n",
        "   while 條件判斷式:\n",
        "      程式區塊\n",
        "      if 條件判斷式:\n",
        "         break\n",
        "   ```      \n",
        "  "
      ],
      "metadata": {
        "id": "-ft6Cukix4Ay"
      }
    },
    {
      "cell_type": "code",
      "execution_count": 28,
      "metadata": {
        "id": "Om1PLBEfncqs",
        "colab": {
          "base_uri": "https://localhost:8080/"
        },
        "outputId": "2ebb984e-94a7-4265-c308-c69ce70e5368"
      },
      "outputs": [
        {
          "output_type": "stream",
          "name": "stdout",
          "text": [
            "0\n",
            "1\n",
            "2\n",
            "3\n",
            "4\n"
          ]
        }
      ],
      "source": [
        "n=0\n",
        "while True:\n",
        "    print(n)\n",
        "    n+=1\n",
        "    if n>= 5:\n",
        "        break"
      ]
    },
    {
      "cell_type": "markdown",
      "source": [
        "   #### 3.使用continue\n",
        "   - 跳過後面的程式區，回到下一圈的while 判斷式\n",
        "   ```\n",
        "   while 條件判斷式:\n",
        "      程式區塊\n",
        "      if 條件判斷式:\n",
        "         continue\n",
        "         \n",
        "      要跳過的程式區塊\n",
        "   ```"
      ],
      "metadata": {
        "id": "U6zI2j01x6Ge"
      }
    },
    {
      "cell_type": "code",
      "execution_count": 29,
      "metadata": {
        "id": "Vxp4DV1Jncqs",
        "colab": {
          "base_uri": "https://localhost:8080/"
        },
        "outputId": "a61d0d39-fe52-4e4f-ca20-62b11df14064"
      },
      "outputs": [
        {
          "output_type": "stream",
          "name": "stdout",
          "text": [
            "2\n",
            "4\n",
            "5\n",
            "7\n",
            "8\n",
            "10\n"
          ]
        }
      ],
      "source": [
        "n=1\n",
        "while n<10:\n",
        "    n+=1\n",
        "    if n % 3 == 0:\n",
        "        continue\n",
        "    print(n)"
      ]
    },
    {
      "cell_type": "markdown",
      "metadata": {
        "id": "yEFmY2Qoncqs"
      },
      "source": [
        "# 其他常用函式\n"
      ]
    },
    {
      "cell_type": "markdown",
      "source": [
        "#### 取得list或字串等容器長度：len()\n"
      ],
      "metadata": {
        "id": "SiLO1WT3yzPm"
      }
    },
    {
      "cell_type": "markdown",
      "source": [
        "#### 排序：sorted()與list名稱.sort()\n",
        "\n",
        " 1. sorted()：不會改變原本的list，只會回傳由小到大排序後的結果(新增另一個list)\n",
        " 2. list名稱.sort()會影響原本的list內容(將排序後的結果存於原本的list內，永久改變原list的內容。)\n"
      ],
      "metadata": {
        "id": "Tfuir82Uy1vv"
      }
    },
    {
      "cell_type": "code",
      "execution_count": 30,
      "metadata": {
        "id": "Gv-zF73Fncqt",
        "colab": {
          "base_uri": "https://localhost:8080/"
        },
        "outputId": "7277caa4-e03e-48f4-cf74-446135d5af01"
      },
      "outputs": [
        {
          "output_type": "stream",
          "name": "stdout",
          "text": [
            "9\n"
          ]
        }
      ],
      "source": [
        "list6=[1,3,5,6,2,8,4,7,3]\n",
        "print(len(list6))"
      ]
    },
    {
      "cell_type": "code",
      "source": [
        "print(\"sorted：\",sorted(list6))\n",
        "print(list6)"
      ],
      "metadata": {
        "id": "vYGNm1JM0RDo",
        "colab": {
          "base_uri": "https://localhost:8080/"
        },
        "outputId": "0dd1f32c-b34e-41c2-dda8-2fd1a6c2148e"
      },
      "execution_count": 31,
      "outputs": [
        {
          "output_type": "stream",
          "name": "stdout",
          "text": [
            "sorted： [1, 2, 3, 3, 4, 5, 6, 7, 8]\n",
            "[1, 3, 5, 6, 2, 8, 4, 7, 3]\n"
          ]
        }
      ]
    },
    {
      "cell_type": "code",
      "source": [
        "list6.sort()\n",
        "print(\"list.sort()：\", list6)"
      ],
      "metadata": {
        "id": "rE91Hhqf0WJM",
        "colab": {
          "base_uri": "https://localhost:8080/"
        },
        "outputId": "c685816f-989b-464b-f9e6-4677a0b7a2a2"
      },
      "execution_count": 32,
      "outputs": [
        {
          "output_type": "stream",
          "name": "stdout",
          "text": [
            "list.sort()： [1, 2, 3, 3, 4, 5, 6, 7, 8]\n"
          ]
        }
      ]
    },
    {
      "cell_type": "markdown",
      "source": [
        "#### 反轉容器：reversed()與list名稱.reverse()\n",
        " 1. reversed()不會改變原本的list，只會回傳反轉後的結果(新增另一個list)\n",
        " 2. list名稱.reverse()會影響原本的list內容(將反轉後的結果存於原本的list內，永久改變原list的內容。)\n"
      ],
      "metadata": {
        "id": "oESZphbmy4kV"
      }
    },
    {
      "cell_type": "code",
      "source": [
        "print(\"reversed()：\", list(reversed(list6)))\n",
        "print(list6)\n",
        "list6.reverse()\n",
        "print(\"list.reverse()：\",list6)"
      ],
      "metadata": {
        "id": "8ApDEpyW0bCs",
        "colab": {
          "base_uri": "https://localhost:8080/"
        },
        "outputId": "16ae9673-93e6-4fcc-b53c-ee280ddca318"
      },
      "execution_count": 33,
      "outputs": [
        {
          "output_type": "stream",
          "name": "stdout",
          "text": [
            "reversed()： [8, 7, 6, 5, 4, 3, 3, 2, 1]\n",
            "[1, 2, 3, 3, 4, 5, 6, 7, 8]\n",
            "list.reverse()： [8, 7, 6, 5, 4, 3, 3, 2, 1]\n"
          ]
        }
      ]
    },
    {
      "cell_type": "code",
      "source": [
        "list10=list(reversed(list6))\n",
        "print(list6)\n",
        "print(list10)"
      ],
      "metadata": {
        "id": "TRr4sOI-N-Xt",
        "colab": {
          "base_uri": "https://localhost:8080/"
        },
        "outputId": "ac7a5e4e-d8b3-4176-9d44-9be45a0dd3f3"
      },
      "execution_count": 34,
      "outputs": [
        {
          "output_type": "stream",
          "name": "stdout",
          "text": [
            "[8, 7, 6, 5, 4, 3, 3, 2, 1]\n",
            "[1, 2, 3, 3, 4, 5, 6, 7, 8]\n"
          ]
        }
      ]
    },
    {
      "cell_type": "code",
      "execution_count": 35,
      "metadata": {
        "id": "p5pjBlwxncqt",
        "colab": {
          "base_uri": "https://localhost:8080/"
        },
        "outputId": "67f842d4-7e3f-439d-dddf-df005e585268"
      },
      "outputs": [
        {
          "output_type": "stream",
          "name": "stdout",
          "text": [
            "<list_reverseiterator object at 0x7c673169e410>\n"
          ]
        }
      ],
      "source": [
        "print(reversed(list6))"
      ]
    },
    {
      "cell_type": "markdown",
      "source": [
        "#### 計數及檢索位置\n",
        "- 統計某特定值出現的次數：變數名稱.count()\n",
        "- 尋找某特定值的最早出現索引位置：變數名稱.index()\n"
      ],
      "metadata": {
        "id": "J27EwqwJy7Nl"
      }
    },
    {
      "cell_type": "code",
      "source": [
        "n=3\n",
        "print(\"count()：\",list6.count(n))\n",
        "print(list6)\n",
        "print(\"index()：\",list6.index(n))"
      ],
      "metadata": {
        "id": "ZvcaZ0KY0nEF",
        "colab": {
          "base_uri": "https://localhost:8080/"
        },
        "outputId": "760560b3-cfb8-4556-87ba-707ab4fbc3e8"
      },
      "execution_count": 36,
      "outputs": [
        {
          "output_type": "stream",
          "name": "stdout",
          "text": [
            "count()： 2\n",
            "[8, 7, 6, 5, 4, 3, 3, 2, 1]\n",
            "index()： 5\n"
          ]
        }
      ]
    },
    {
      "cell_type": "code",
      "execution_count": 37,
      "metadata": {
        "id": "ANA4eKYTncqt",
        "colab": {
          "base_uri": "https://localhost:8080/"
        },
        "outputId": "ef2270e2-d009-475e-8392-d278a19c2d11"
      },
      "outputs": [
        {
          "output_type": "stream",
          "name": "stdout",
          "text": [
            "23\n",
            "count()： 4\n",
            "index()： 7\n"
          ]
        }
      ],
      "source": [
        "text=\"Python_Jupyter notebook\"\n",
        "print(len(text))\n",
        "\n",
        "n=\"o\"\n",
        "print(\"count()：\",text.count(n))\n",
        "print(\"index()：\",text.index(\"J\"))"
      ]
    },
    {
      "cell_type": "markdown",
      "source": [
        "#### 字串格式化：format()與f-string\n",
        " 1. format()\n",
        " ```\n",
        " '{}文字 {}文字{}...'.format(值1, 值2, 值3, ...)\n",
        " ```\n",
        " 2. f-string\n",
        " ```\n",
        " f'{值1} 文字 {值2} 文字...'\n",
        " ```\n"
      ],
      "metadata": {
        "id": "aFs_ZJl7zAUd"
      }
    },
    {
      "cell_type": "code",
      "execution_count": 38,
      "metadata": {
        "id": "qrnJX6MMncqt",
        "colab": {
          "base_uri": "https://localhost:8080/"
        },
        "outputId": "dfec250d-07d3-4094-8ed2-0bbff2699300"
      },
      "outputs": [
        {
          "output_type": "stream",
          "name": "stdout",
          "text": [
            "apple 有 6 個 \n",
            "banana 有 2 個 \n",
            "orange 有 3 個 \n"
          ]
        }
      ],
      "source": [
        "fruits=[[\"apple\",6],[\"banana\",2],[\"orange\",3]]\n",
        "for name,num in fruits:\n",
        "    print('{} 有 {} 個 '.format(name,num))"
      ]
    },
    {
      "cell_type": "code",
      "execution_count": 39,
      "metadata": {
        "id": "Zi2_NuJUncqt",
        "colab": {
          "base_uri": "https://localhost:8080/"
        },
        "outputId": "9483b805-fbe9-45aa-e9df-2ed44fa305dc"
      },
      "outputs": [
        {
          "output_type": "stream",
          "name": "stdout",
          "text": [
            "apple 有 6 個\n",
            "banana 有 2 個\n",
            "orange 有 3 個\n"
          ]
        }
      ],
      "source": [
        "for name,num in fruits:\n",
        "    print(f'{name} 有 {num} 個')"
      ]
    },
    {
      "cell_type": "markdown",
      "source": [
        "#### 分割字串成list元素：\n",
        " 1. 字串.split(分割字元, 分割次數)，其中分割字元若沒指定，則預設為空格；分割次數若不指定，為分割整個字串。\n",
        " 2. 用re模組內的re.split(), 可以處理多種分割字元的字串分割。\n",
        " ```\n",
        " import re\n",
        " list變數=re.split('[分割符號]',字串)   ##多個分割符號不用隔開\n",
        " ```"
      ],
      "metadata": {
        "id": "3nVSA4dazCbu"
      }
    },
    {
      "cell_type": "code",
      "execution_count": 40,
      "metadata": {
        "id": "r3Zp7E_oncqu",
        "colab": {
          "base_uri": "https://localhost:8080/"
        },
        "outputId": "748062ea-50ee-43a4-8aff-7e62dee6f9b6"
      },
      "outputs": [
        {
          "output_type": "execute_result",
          "data": {
            "text/plain": [
              "['Python_Jupyter', 'notebook']"
            ]
          },
          "metadata": {},
          "execution_count": 40
        }
      ],
      "source": [
        "text.split()"
      ]
    },
    {
      "cell_type": "code",
      "execution_count": 41,
      "metadata": {
        "id": "ihDYlvcrncqu",
        "colab": {
          "base_uri": "https://localhost:8080/"
        },
        "outputId": "84475eec-6eb5-4c23-a748-e1288c76afa2"
      },
      "outputs": [
        {
          "output_type": "execute_result",
          "data": {
            "text/plain": [
              "['Pyth', 'n_Jupyter n', 'teb', '', 'k']"
            ]
          },
          "metadata": {},
          "execution_count": 41
        }
      ],
      "source": [
        "text.split(\"o\")"
      ]
    },
    {
      "cell_type": "code",
      "execution_count": 42,
      "metadata": {
        "id": "G9VScQ58ncqu",
        "colab": {
          "base_uri": "https://localhost:8080/"
        },
        "outputId": "e89757f2-f67e-4828-9fc4-5c9e4c559078"
      },
      "outputs": [
        {
          "output_type": "stream",
          "name": "stdout",
          "text": [
            "['Python', 'Jupyter', 'notebook']\n"
          ]
        }
      ],
      "source": [
        "import re\n",
        "text1=re.split('[_ ]',text)\n",
        "print(text1)"
      ]
    }
  ],
  "metadata": {
    "kernelspec": {
      "display_name": "Python 3",
      "language": "python",
      "name": "python3"
    },
    "language_info": {
      "codemirror_mode": {
        "name": "ipython",
        "version": 3
      },
      "file_extension": ".py",
      "mimetype": "text/x-python",
      "name": "python",
      "nbconvert_exporter": "python",
      "pygments_lexer": "ipython3",
      "version": "3.7.4"
    },
    "colab": {
      "provenance": [],
      "toc_visible": true,
      "include_colab_link": true
    }
  },
  "nbformat": 4,
  "nbformat_minor": 0
}